{
  "nbformat": 4,
  "nbformat_minor": 0,
  "metadata": {
    "colab": {
      "name": "Fashion-MNIST.ipynb",
      "version": "0.3.2",
      "provenance": [],
      "collapsed_sections": []
    },
    "kernelspec": {
      "name": "python3",
      "display_name": "Python 3"
    },
    "accelerator": "GPU"
  },
  "cells": [
    {
      "cell_type": "markdown",
      "metadata": {
        "id": "PCBErY5d1vGm",
        "colab_type": "text"
      },
      "source": [
        "# The Fashion-MNIST Data Set\n",
        "\n",
        "The Fashion-MNIST dataset is a dataset of Zalando's article images, with 28x28 grayscale images of 70,000 fashion products from 10 categories, and 7,000 images per category. The training set has 60,000 images, and the test set has 10,000 images."
      ]
    },
    {
      "cell_type": "code",
      "metadata": {
        "id": "f4KVlrGg1sjw",
        "colab_type": "code",
        "colab": {}
      },
      "source": [
        "#Load the data\n",
        "from keras.datasets import fashion_mnist\n",
        "(X_train,Y_train),(X_test,Y_test) = fashion_mnist.load_data()"
      ],
      "execution_count": 0,
      "outputs": []
    },
    {
      "cell_type": "markdown",
      "metadata": {
        "id": "jT5DKE3M5OxL",
        "colab_type": "text"
      },
      "source": [
        "# **Analyze the Data**"
      ]
    },
    {
      "cell_type": "code",
      "metadata": {
        "id": "LnD2GC6fx4SZ",
        "colab_type": "code",
        "outputId": "7133d111-e396-4af7-e0b8-11c99039871f",
        "colab": {
          "base_uri": "https://localhost:8080/",
          "height": 35
        }
      },
      "source": [
        "#Let's look into the shape of the data\n",
        "X_train.shape,Y_train.shape,X_test.shape,Y_test.shape"
      ],
      "execution_count": 3,
      "outputs": [
        {
          "output_type": "execute_result",
          "data": {
            "text/plain": [
              "((60000, 28, 28), (60000,), (10000, 28, 28), (10000,))"
            ]
          },
          "metadata": {
            "tags": []
          },
          "execution_count": 3
        }
      ]
    },
    {
      "cell_type": "code",
      "metadata": {
        "id": "iQ_JJQDLzvmK",
        "colab_type": "code",
        "colab": {}
      },
      "source": [
        "import numpy as np\n",
        "from keras.utils import to_categorical\n",
        "import matplotlib.pyplot as plt\n",
        "%matplotlib inline"
      ],
      "execution_count": 0,
      "outputs": []
    },
    {
      "cell_type": "code",
      "metadata": {
        "id": "0rmVU02Wz4q4",
        "colab_type": "code",
        "outputId": "2f1ab5a8-2da8-42df-c2f5-a9ff0be9b6c1",
        "colab": {
          "base_uri": "https://localhost:8080/",
          "height": 35
        }
      },
      "source": [
        "#Number of categories present in the data\n",
        "print('Number of categories:',len(np.unique(Y_train)))"
      ],
      "execution_count": 5,
      "outputs": [
        {
          "output_type": "stream",
          "text": [
            "Number of categories: 10\n"
          ],
          "name": "stdout"
        }
      ]
    },
    {
      "cell_type": "code",
      "metadata": {
        "id": "b3UnJbxh3hQM",
        "colab_type": "code",
        "colab": {}
      },
      "source": [
        "X_train[0,:,:]"
      ],
      "execution_count": 0,
      "outputs": []
    },
    {
      "cell_type": "code",
      "metadata": {
        "id": "zT51U3XD0oR-",
        "colab_type": "code",
        "outputId": "1ae8176d-4908-4528-b361-998e16fae775",
        "colab": {
          "base_uri": "https://localhost:8080/",
          "height": 209
        }
      },
      "source": [
        "plt.figure(figsize=[5,5])\n",
        "\n",
        "# Display the first image in training data\n",
        "plt.subplot(121)\n",
        "plt.imshow(X_train[0,:,:])\n",
        "plt.title(\"Ground Truth : {}\".format(Y_train[0]))\n",
        "\n",
        "# Display the first image in testing data\n",
        "plt.subplot(122)\n",
        "plt.imshow(X_test[0,:,:], cmap='gray')\n",
        "plt.title(\"Ground Truth : {}\".format(Y_test[0]))"
      ],
      "execution_count": 7,
      "outputs": [
        {
          "output_type": "execute_result",
          "data": {
            "text/plain": [
              "Text(0.5, 1.0, 'Ground Truth : 9')"
            ]
          },
          "metadata": {
            "tags": []
          },
          "execution_count": 7
        },
        {
          "output_type": "display_data",
          "data": {
            "image/png": "[encoded data removed]",
            "text/plain": [
              "<Figure size 360x360 with 2 Axes>"
            ]
          },
          "metadata": {
            "tags": []
          }
        }
      ]
    },
    {
      "cell_type": "markdown",
      "metadata": {
        "id": "T1IY-61K5dKN",
        "colab_type": "text"
      },
      "source": [
        "*The output of above two plots looks like an ankle boot, and this class is assigned a class label of 9.*"
      ]
    },
    {
      "cell_type": "markdown",
      "metadata": {
        "id": "piYusVhu5pNK",
        "colab_type": "text"
      },
      "source": [
        "# Data Preprocessing"
      ]
    },
    {
      "cell_type": "code",
      "metadata": {
        "id": "x-sH5Y203d0L",
        "colab_type": "code",
        "colab": {}
      },
      "source": [
        "X_train = X_train.reshape(-1,28,28,1)\n",
        "X_test = X_test.reshape(-1,28,28,1)"
      ],
      "execution_count": 0,
      "outputs": []
    },
    {
      "cell_type": "code",
      "metadata": {
        "id": "qtk6iNpg1AhO",
        "colab_type": "code",
        "outputId": "b6edc2ff-43c2-4dcd-d078-a816278ec63b",
        "colab": {
          "base_uri": "https://localhost:8080/",
          "height": 35
        }
      },
      "source": [
        "X_train.shape,X_test.shape"
      ],
      "execution_count": 9,
      "outputs": [
        {
          "output_type": "execute_result",
          "data": {
            "text/plain": [
              "((60000, 28, 28, 1), (10000, 28, 28, 1))"
            ]
          },
          "metadata": {
            "tags": []
          },
          "execution_count": 9
        }
      ]
    },
    {
      "cell_type": "code",
      "metadata": {
        "id": "PNqlFEfHYHn5",
        "colab_type": "code",
        "colab": {}
      },
      "source": [
        "X_train = X_train.astype('float32')\n",
        "X_test = X_test.astype('float32')\n",
        "#rescale the pixel values in range 0 - 1\n",
        "X_train = X_train / 255.\n",
        "X_test = X_test / 255."
      ],
      "execution_count": 0,
      "outputs": []
    },
    {
      "cell_type": "code",
      "metadata": {
        "id": "Df8gDNMXg0Rh",
        "colab_type": "code",
        "outputId": "cca0a61c-2732-4371-b649-3089cc70ce13",
        "colab": {
          "base_uri": "https://localhost:8080/",
          "height": 54
        }
      },
      "source": [
        "# Change the labels from categorical to one-hot encoding\n",
        "Y_train_one_hot = to_categorical(Y_train)\n",
        "Y_test_one_hot = to_categorical(Y_test)\n",
        "print(\"Original one: \",Y_train[1])\n",
        "print(\"After one hot: \",Y_train_one_hot[1])\n"
      ],
      "execution_count": 11,
      "outputs": [
        {
          "output_type": "stream",
          "text": [
            "Original one:  0\n",
            "After one hot:  [1. 0. 0. 0. 0. 0. 0. 0. 0. 0.]\n"
          ],
          "name": "stdout"
        }
      ]
    },
    {
      "cell_type": "code",
      "metadata": {
        "id": "bsWVvMI4hOY0",
        "colab_type": "code",
        "colab": {}
      },
      "source": [
        "from sklearn.model_selection import train_test_split\n",
        "train_X,valid_X,train_label,valid_label = train_test_split(X_train, Y_train_one_hot,stratify = Y_train_one_hot, test_size=0.2, random_state=13)"
      ],
      "execution_count": 0,
      "outputs": []
    },
    {
      "cell_type": "code",
      "metadata": {
        "id": "I0nyB2grsi-9",
        "colab_type": "code",
        "outputId": "db7fec29-493b-48e4-ddf6-b9f7682b35e2",
        "colab": {
          "base_uri": "https://localhost:8080/",
          "height": 35
        }
      },
      "source": [
        "train_X.shape,valid_X.shape"
      ],
      "execution_count": 13,
      "outputs": [
        {
          "output_type": "execute_result",
          "data": {
            "text/plain": [
              "((48000, 28, 28, 1), (12000, 28, 28, 1))"
            ]
          },
          "metadata": {
            "tags": []
          },
          "execution_count": 13
        }
      ]
    },
    {
      "cell_type": "markdown",
      "metadata": {
        "id": "DRB6A1cq6g8F",
        "colab_type": "text"
      },
      "source": [
        "# Model the Data"
      ]
    },
    {
      "cell_type": "code",
      "metadata": {
        "id": "XuTAvK81sqKk",
        "colab_type": "code",
        "colab": {}
      },
      "source": [
        "import keras\n",
        "from keras.models import Sequential,Input,Model\n",
        "from keras.layers import Dense, Dropout, Flatten\n",
        "from keras.layers import Conv2D, MaxPooling2D\n",
        "from keras.layers.normalization import BatchNormalization\n",
        "from keras.layers.advanced_activations import LeakyReLU"
      ],
      "execution_count": 0,
      "outputs": []
    },
    {
      "cell_type": "code",
      "metadata": {
        "id": "quDJHlEet4jD",
        "colab_type": "code",
        "colab": {}
      },
      "source": [
        "batch_size = 64\n",
        "epochs = 20\n",
        "num_classes = 10"
      ],
      "execution_count": 0,
      "outputs": []
    },
    {
      "cell_type": "code",
      "metadata": {
        "id": "9tbLKTkkt-6M",
        "colab_type": "code",
        "colab": {
          "base_uri": "https://localhost:8080/",
          "height": 184
        },
        "outputId": "e9b7371a-1f57-480f-9867-375a1df9203e"
      },
      "source": [
        "fashion_model = Sequential()\n",
        "fashion_model.add(Conv2D(32, kernel_size=(3, 3),activation='linear',input_shape= (28,28,1), padding='same'))\n",
        "fashion_model.add(LeakyReLU(alpha=0.1))\n",
        "fashion_model.add(MaxPooling2D((2, 2),padding='same'))\n",
        "fashion_model.add(Conv2D(64, (3, 3), activation='linear',padding='same'))\n",
        "fashion_model.add(LeakyReLU(alpha=0.1))\n",
        "fashion_model.add(MaxPooling2D(pool_size=(2, 2),padding='same'))\n",
        "fashion_model.add(Conv2D(128, (3, 3), activation='linear',padding='same'))\n",
        "fashion_model.add(LeakyReLU(alpha=0.1))                  \n",
        "fashion_model.add(MaxPooling2D(pool_size=(2, 2),padding='same'))\n",
        "fashion_model.add(Flatten())\n",
        "fashion_model.add(Dense(128, activation='linear'))\n",
        "fashion_model.add(LeakyReLU(alpha=0.1)) \n",
        "fashion_model.add(Dense(num_classes, activation='softmax'))"
      ],
      "execution_count": 16,
      "outputs": [
        {
          "output_type": "stream",
          "text": [
            "WARNING:tensorflow:From /usr/local/lib/python3.6/dist-packages/keras/backend/tensorflow_backend.py:66: The name tf.get_default_graph is deprecated. Please use tf.compat.v1.get_default_graph instead.\n",
            "\n",
            "WARNING:tensorflow:From /usr/local/lib/python3.6/dist-packages/keras/backend/tensorflow_backend.py:541: The name tf.placeholder is deprecated. Please use tf.compat.v1.placeholder instead.\n",
            "\n",
            "WARNING:tensorflow:From /usr/local/lib/python3.6/dist-packages/keras/backend/tensorflow_backend.py:4432: The name tf.random_uniform is deprecated. Please use tf.random.uniform instead.\n",
            "\n",
            "WARNING:tensorflow:From /usr/local/lib/python3.6/dist-packages/keras/backend/tensorflow_backend.py:4267: The name tf.nn.max_pool is deprecated. Please use tf.nn.max_pool2d instead.\n",
            "\n"
          ],
          "name": "stdout"
        }
      ]
    },
    {
      "cell_type": "code",
      "metadata": {
        "id": "P_MfH8iaxlgV",
        "colab_type": "code",
        "colab": {
          "base_uri": "https://localhost:8080/",
          "height": 110
        },
        "outputId": "02fe7ee3-77ba-4250-a90a-cc6f55f7425e"
      },
      "source": [
        "fashion_model.compile(loss=keras.losses.categorical_crossentropy, optimizer=keras.optimizers.Adam(),metrics=['accuracy'])"
      ],
      "execution_count": 17,
      "outputs": [
        {
          "output_type": "stream",
          "text": [
            "WARNING:tensorflow:From /usr/local/lib/python3.6/dist-packages/keras/optimizers.py:793: The name tf.train.Optimizer is deprecated. Please use tf.compat.v1.train.Optimizer instead.\n",
            "\n",
            "WARNING:tensorflow:From /usr/local/lib/python3.6/dist-packages/keras/backend/tensorflow_backend.py:3576: The name tf.log is deprecated. Please use tf.math.log instead.\n",
            "\n"
          ],
          "name": "stdout"
        }
      ]
    },
    {
      "cell_type": "code",
      "metadata": {
        "id": "R1MdK-yPxuaN",
        "colab_type": "code",
        "outputId": "7aed4cc2-74a2-45c1-a4e3-1d38a3fd083d",
        "colab": {
          "base_uri": "https://localhost:8080/",
          "height": 641
        }
      },
      "source": [
        "fashion_model.summary()"
      ],
      "execution_count": 18,
      "outputs": [
        {
          "output_type": "stream",
          "text": [
            "Model: \"sequential_1\"\n",
            "_________________________________________________________________\n",
            "Layer (type)                 Output Shape              Param #   \n",
            "=================================================================\n",
            "conv2d_1 (Conv2D)            (None, 28, 28, 32)        320       \n",
            "_________________________________________________________________\n",
            "leaky_re_lu_1 (LeakyReLU)    (None, 28, 28, 32)        0         \n",
            "_________________________________________________________________\n",
            "max_pooling2d_1 (MaxPooling2 (None, 14, 14, 32)        0         \n",
            "_________________________________________________________________\n",
            "conv2d_2 (Conv2D)            (None, 14, 14, 64)        18496     \n",
            "_________________________________________________________________\n",
            "leaky_re_lu_2 (LeakyReLU)    (None, 14, 14, 64)        0         \n",
            "_________________________________________________________________\n",
            "max_pooling2d_2 (MaxPooling2 (None, 7, 7, 64)          0         \n",
            "_________________________________________________________________\n",
            "conv2d_3 (Conv2D)            (None, 7, 7, 128)         73856     \n",
            "_________________________________________________________________\n",
            "leaky_re_lu_3 (LeakyReLU)    (None, 7, 7, 128)         0         \n",
            "_________________________________________________________________\n",
            "max_pooling2d_3 (MaxPooling2 (None, 4, 4, 128)         0         \n",
            "_________________________________________________________________\n",
            "flatten_1 (Flatten)          (None, 2048)              0         \n",
            "_________________________________________________________________\n",
            "dense_1 (Dense)              (None, 128)               262272    \n",
            "_________________________________________________________________\n",
            "leaky_re_lu_4 (LeakyReLU)    (None, 128)               0         \n",
            "_________________________________________________________________\n",
            "dense_2 (Dense)              (None, 10)                1290      \n",
            "=================================================================\n",
            "Total params: 356,234\n",
            "Trainable params: 356,234\n",
            "Non-trainable params: 0\n",
            "_________________________________________________________________\n"
          ],
          "name": "stdout"
        }
      ]
    },
    {
      "cell_type": "markdown",
      "metadata": {
        "id": "BRGA6CZQ9Q7r",
        "colab_type": "text"
      },
      "source": [
        "# Train the Model"
      ]
    },
    {
      "cell_type": "code",
      "metadata": {
        "id": "B1atA1lGx5Nd",
        "colab_type": "code",
        "outputId": "27e76e43-b24f-4494-9547-9f74af69f3d3",
        "colab": {
          "base_uri": "https://localhost:8080/",
          "height": 882
        }
      },
      "source": [
        "fashion_train = fashion_model.fit(train_X, train_label, batch_size=batch_size,epochs=epochs,verbose=1,validation_data=(valid_X, valid_label))"
      ],
      "execution_count": 19,
      "outputs": [
        {
          "output_type": "stream",
          "text": [
            "WARNING:tensorflow:From /usr/local/lib/python3.6/dist-packages/tensorflow/python/ops/math_grad.py:1250: add_dispatch_support.<locals>.wrapper (from tensorflow.python.ops.array_ops) is deprecated and will be removed in a future version.\n",
            "Instructions for updating:\n",
            "Use tf.where in 2.0, which has the same broadcast rule as np.where\n",
            "WARNING:tensorflow:From /usr/local/lib/python3.6/dist-packages/keras/backend/tensorflow_backend.py:1033: The name tf.assign_add is deprecated. Please use tf.compat.v1.assign_add instead.\n",
            "\n",
            "Train on 48000 samples, validate on 12000 samples\n",
            "Epoch 1/20\n",
            "48000/48000 [==============================] - 19s 399us/step - loss: 0.4691 - acc: 0.8292 - val_loss: 0.3198 - val_acc: 0.8861\n",
            "Epoch 2/20\n",
            "48000/48000 [==============================] - 11s 229us/step - loss: 0.2915 - acc: 0.8931 - val_loss: 0.2642 - val_acc: 0.9069\n",
            "Epoch 3/20\n",
            "48000/48000 [==============================] - 11s 227us/step - loss: 0.2412 - acc: 0.9097 - val_loss: 0.2654 - val_acc: 0.9020\n",
            "Epoch 4/20\n",
            "48000/48000 [==============================] - 11s 225us/step - loss: 0.2092 - acc: 0.9232 - val_loss: 0.2313 - val_acc: 0.9153\n",
            "Epoch 5/20\n",
            "48000/48000 [==============================] - 11s 225us/step - loss: 0.1806 - acc: 0.9326 - val_loss: 0.2165 - val_acc: 0.9198\n",
            "Epoch 6/20\n",
            "48000/48000 [==============================] - 11s 223us/step - loss: 0.1612 - acc: 0.9390 - val_loss: 0.2377 - val_acc: 0.9174\n",
            "Epoch 7/20\n",
            "48000/48000 [==============================] - 11s 222us/step - loss: 0.1387 - acc: 0.9472 - val_loss: 0.2437 - val_acc: 0.9145\n",
            "Epoch 8/20\n",
            "48000/48000 [==============================] - 11s 219us/step - loss: 0.1237 - acc: 0.9536 - val_loss: 0.2586 - val_acc: 0.9140\n",
            "Epoch 9/20\n",
            "48000/48000 [==============================] - 10s 217us/step - loss: 0.1033 - acc: 0.9603 - val_loss: 0.2291 - val_acc: 0.9254\n",
            "Epoch 10/20\n",
            "48000/48000 [==============================] - 10s 217us/step - loss: 0.0868 - acc: 0.9671 - val_loss: 0.2489 - val_acc: 0.9266\n",
            "Epoch 11/20\n",
            "48000/48000 [==============================] - 10s 217us/step - loss: 0.0751 - acc: 0.9716 - val_loss: 0.2856 - val_acc: 0.9213\n",
            "Epoch 12/20\n",
            "48000/48000 [==============================] - 11s 220us/step - loss: 0.0646 - acc: 0.9760 - val_loss: 0.3116 - val_acc: 0.9207\n",
            "Epoch 13/20\n",
            "48000/48000 [==============================] - 10s 217us/step - loss: 0.0564 - acc: 0.9784 - val_loss: 0.3282 - val_acc: 0.9183\n",
            "Epoch 14/20\n",
            "48000/48000 [==============================] - 11s 219us/step - loss: 0.0521 - acc: 0.9799 - val_loss: 0.3348 - val_acc: 0.9187\n",
            "Epoch 15/20\n",
            "48000/48000 [==============================] - 10s 218us/step - loss: 0.0440 - acc: 0.9830 - val_loss: 0.3315 - val_acc: 0.9228\n",
            "Epoch 16/20\n",
            "48000/48000 [==============================] - 11s 219us/step - loss: 0.0388 - acc: 0.9855 - val_loss: 0.3777 - val_acc: 0.9197\n",
            "Epoch 17/20\n",
            "48000/48000 [==============================] - 11s 220us/step - loss: 0.0352 - acc: 0.9864 - val_loss: 0.3752 - val_acc: 0.9215\n",
            "Epoch 18/20\n",
            "48000/48000 [==============================] - 10s 218us/step - loss: 0.0311 - acc: 0.9886 - val_loss: 0.3779 - val_acc: 0.9207\n",
            "Epoch 19/20\n",
            "48000/48000 [==============================] - 11s 220us/step - loss: 0.0329 - acc: 0.9883 - val_loss: 0.3700 - val_acc: 0.9227\n",
            "Epoch 20/20\n",
            "48000/48000 [==============================] - 11s 220us/step - loss: 0.0263 - acc: 0.9901 - val_loss: 0.3966 - val_acc: 0.9248\n"
          ],
          "name": "stdout"
        }
      ]
    },
    {
      "cell_type": "markdown",
      "metadata": {
        "id": "-wGQLU9I9Aht",
        "colab_type": "text"
      },
      "source": [
        "# **Evaluate the Model on test data**"
      ]
    },
    {
      "cell_type": "code",
      "metadata": {
        "id": "dA3hATNnynZI",
        "colab_type": "code",
        "colab": {}
      },
      "source": [
        "test_eval = fashion_model.evaluate(X_test, Y_test_one_hot, verbose=0)"
      ],
      "execution_count": 0,
      "outputs": []
    },
    {
      "cell_type": "code",
      "metadata": {
        "id": "VEZeVZ1IywOm",
        "colab_type": "code",
        "outputId": "a797fbfb-a1aa-45b7-fb42-2368ec2398c0",
        "colab": {
          "base_uri": "https://localhost:8080/",
          "height": 54
        }
      },
      "source": [
        "print('Test loss:', test_eval[0])\n",
        "print('Test accuracy:', test_eval[1])"
      ],
      "execution_count": 21,
      "outputs": [
        {
          "output_type": "stream",
          "text": [
            "Test loss: 0.46297670842073857\n",
            "Test accuracy: 0.9156\n"
          ],
          "name": "stdout"
        }
      ]
    },
    {
      "cell_type": "code",
      "metadata": {
        "id": "TyXaEve4y-l-",
        "colab_type": "code",
        "outputId": "aff19386-75ab-407e-bd1f-2897e52d3027",
        "colab": {
          "base_uri": "https://localhost:8080/",
          "height": 545
        }
      },
      "source": [
        "accuracy = fashion_train.history['acc']\n",
        "val_accuracy = fashion_train.history['val_acc']\n",
        "loss = fashion_train.history['loss']\n",
        "val_loss = fashion_train.history['val_loss']\n",
        "epochs = range(len(accuracy))\n",
        "plt.plot(epochs, accuracy, 'bo', label='Training accuracy')\n",
        "plt.plot(epochs, val_accuracy, 'b', label='Validation accuracy')\n",
        "plt.title('Training and validation accuracy')\n",
        "plt.legend()\n",
        "plt.figure()\n",
        "plt.plot(epochs, loss, 'bo', label='Training loss')\n",
        "plt.plot(epochs, val_loss, 'b', label='Validation loss')\n",
        "plt.title('Training and validation loss')\n",
        "plt.legend()\n",
        "plt.show()"
      ],
      "execution_count": 22,
      "outputs": [
        {
          "output_type": "display_data",
          "data": {
            "image/png": "[encoded data removed]",
            "text/plain": [
              "<Figure size 432x288 with 1 Axes>"
            ]
          },
          "metadata": {
            "tags": []
          }
        },
        {
          "output_type": "display_data",
          "data": {
            "image/png": "[encoded data removed]",
            "text/plain": [
              "<Figure size 432x288 with 1 Axes>"
            ]
          },
          "metadata": {
            "tags": []
          }
        }
      ]
    },
    {
      "cell_type": "markdown",
      "metadata": {
        "id": "gOheV1Iq9qe1",
        "colab_type": "text"
      },
      "source": [
        "# Adding Dropout into the Network"
      ]
    },
    {
      "cell_type": "code",
      "metadata": {
        "id": "nvfckJa7zRGF",
        "colab_type": "code",
        "colab": {}
      },
      "source": [
        "batch_size = 64\n",
        "epochs = 20\n",
        "num_classes = 10"
      ],
      "execution_count": 0,
      "outputs": []
    },
    {
      "cell_type": "code",
      "metadata": {
        "id": "u7ygj5ggzWbz",
        "colab_type": "code",
        "colab": {}
      },
      "source": [
        "fashion_model = Sequential()\n",
        "fashion_model.add(Conv2D(32, kernel_size=(3, 3),activation='linear',padding='same',input_shape=(28,28,1)))\n",
        "fashion_model.add(LeakyReLU(alpha=0.1))\n",
        "fashion_model.add(MaxPooling2D((2, 2),padding='same'))\n",
        "fashion_model.add(Dropout(0.25))\n",
        "fashion_model.add(Conv2D(64, (3, 3), activation='linear',padding='same'))\n",
        "fashion_model.add(LeakyReLU(alpha=0.1))\n",
        "fashion_model.add(MaxPooling2D(pool_size=(2, 2),padding='same'))\n",
        "fashion_model.add(Dropout(0.25))\n",
        "fashion_model.add(Conv2D(128, (3, 3), activation='linear',padding='same'))\n",
        "fashion_model.add(LeakyReLU(alpha=0.1))                  \n",
        "fashion_model.add(MaxPooling2D(pool_size=(2, 2),padding='same'))\n",
        "fashion_model.add(Dropout(0.4))\n",
        "fashion_model.add(Flatten())\n",
        "fashion_model.add(Dense(128, activation='linear'))\n",
        "fashion_model.add(LeakyReLU(alpha=0.1))           \n",
        "fashion_model.add(Dropout(0.3))\n",
        "fashion_model.add(Dense(num_classes, activation='softmax'))"
      ],
      "execution_count": 0,
      "outputs": []
    },
    {
      "cell_type": "code",
      "metadata": {
        "id": "b84MysRezcqV",
        "colab_type": "code",
        "outputId": "5db67a3f-1553-421f-a011-261f1187bdad",
        "colab": {
          "base_uri": "https://localhost:8080/",
          "height": 788
        }
      },
      "source": [
        "fashion_model.summary()"
      ],
      "execution_count": 27,
      "outputs": [
        {
          "output_type": "stream",
          "text": [
            "Model: \"sequential_3\"\n",
            "_________________________________________________________________\n",
            "Layer (type)                 Output Shape              Param #   \n",
            "=================================================================\n",
            "conv2d_7 (Conv2D)            (None, 28, 28, 32)        320       \n",
            "_________________________________________________________________\n",
            "leaky_re_lu_9 (LeakyReLU)    (None, 28, 28, 32)        0         \n",
            "_________________________________________________________________\n",
            "max_pooling2d_7 (MaxPooling2 (None, 14, 14, 32)        0         \n",
            "_________________________________________________________________\n",
            "dropout_5 (Dropout)          (None, 14, 14, 32)        0         \n",
            "_________________________________________________________________\n",
            "conv2d_8 (Conv2D)            (None, 14, 14, 64)        18496     \n",
            "_________________________________________________________________\n",
            "leaky_re_lu_10 (LeakyReLU)   (None, 14, 14, 64)        0         \n",
            "_________________________________________________________________\n",
            "max_pooling2d_8 (MaxPooling2 (None, 7, 7, 64)          0         \n",
            "_________________________________________________________________\n",
            "dropout_6 (Dropout)          (None, 7, 7, 64)          0         \n",
            "_________________________________________________________________\n",
            "conv2d_9 (Conv2D)            (None, 7, 7, 128)         73856     \n",
            "_________________________________________________________________\n",
            "leaky_re_lu_11 (LeakyReLU)   (None, 7, 7, 128)         0         \n",
            "_________________________________________________________________\n",
            "max_pooling2d_9 (MaxPooling2 (None, 4, 4, 128)         0         \n",
            "_________________________________________________________________\n",
            "dropout_7 (Dropout)          (None, 4, 4, 128)         0         \n",
            "_________________________________________________________________\n",
            "flatten_3 (Flatten)          (None, 2048)              0         \n",
            "_________________________________________________________________\n",
            "dense_5 (Dense)              (None, 128)               262272    \n",
            "_________________________________________________________________\n",
            "leaky_re_lu_12 (LeakyReLU)   (None, 128)               0         \n",
            "_________________________________________________________________\n",
            "dropout_8 (Dropout)          (None, 128)               0         \n",
            "_________________________________________________________________\n",
            "dense_6 (Dense)              (None, 10)                1290      \n",
            "=================================================================\n",
            "Total params: 356,234\n",
            "Trainable params: 356,234\n",
            "Non-trainable params: 0\n",
            "_________________________________________________________________\n"
          ],
          "name": "stdout"
        }
      ]
    },
    {
      "cell_type": "code",
      "metadata": {
        "id": "__pBLyzyzf_R",
        "colab_type": "code",
        "colab": {}
      },
      "source": [
        "fashion_model.compile(loss=keras.losses.categorical_crossentropy, optimizer=keras.optimizers.Adam(),metrics=['accuracy'])"
      ],
      "execution_count": 0,
      "outputs": []
    },
    {
      "cell_type": "code",
      "metadata": {
        "id": "URZWMduAzl4H",
        "colab_type": "code",
        "outputId": "7984be0d-303e-46d9-d13b-c7b3e3fe81f3",
        "colab": {
          "base_uri": "https://localhost:8080/",
          "height": 770
        }
      },
      "source": [
        "fashion_train_dropout = fashion_model.fit(train_X, train_label, batch_size=batch_size,epochs=epochs,verbose=1,validation_data=(valid_X, valid_label))"
      ],
      "execution_count": 29,
      "outputs": [
        {
          "output_type": "stream",
          "text": [
            "Train on 48000 samples, validate on 12000 samples\n",
            "Epoch 1/20\n",
            "48000/48000 [==============================] - 12s 255us/step - loss: 0.5985 - acc: 0.7777 - val_loss: 0.3569 - val_acc: 0.8711\n",
            "Epoch 2/20\n",
            "48000/48000 [==============================] - 11s 238us/step - loss: 0.3799 - acc: 0.8600 - val_loss: 0.2956 - val_acc: 0.8928\n",
            "Epoch 3/20\n",
            "48000/48000 [==============================] - 11s 232us/step - loss: 0.3279 - acc: 0.8773 - val_loss: 0.2671 - val_acc: 0.9044\n",
            "Epoch 4/20\n",
            "48000/48000 [==============================] - 11s 230us/step - loss: 0.3043 - acc: 0.8876 - val_loss: 0.2613 - val_acc: 0.9068\n",
            "Epoch 5/20\n",
            "48000/48000 [==============================] - 11s 232us/step - loss: 0.2846 - acc: 0.8953 - val_loss: 0.2384 - val_acc: 0.9140\n",
            "Epoch 6/20\n",
            "48000/48000 [==============================] - 11s 229us/step - loss: 0.2674 - acc: 0.9013 - val_loss: 0.2479 - val_acc: 0.9073\n",
            "Epoch 7/20\n",
            "48000/48000 [==============================] - 11s 229us/step - loss: 0.2568 - acc: 0.9039 - val_loss: 0.2222 - val_acc: 0.9195\n",
            "Epoch 8/20\n",
            "48000/48000 [==============================] - 11s 228us/step - loss: 0.2482 - acc: 0.9074 - val_loss: 0.2178 - val_acc: 0.9209\n",
            "Epoch 9/20\n",
            "48000/48000 [==============================] - 11s 228us/step - loss: 0.2382 - acc: 0.9121 - val_loss: 0.2208 - val_acc: 0.9189\n",
            "Epoch 10/20\n",
            "48000/48000 [==============================] - 11s 228us/step - loss: 0.2352 - acc: 0.9131 - val_loss: 0.2158 - val_acc: 0.9243\n",
            "Epoch 11/20\n",
            "48000/48000 [==============================] - 11s 226us/step - loss: 0.2284 - acc: 0.9143 - val_loss: 0.2453 - val_acc: 0.9129\n",
            "Epoch 12/20\n",
            "48000/48000 [==============================] - 11s 224us/step - loss: 0.2214 - acc: 0.9172 - val_loss: 0.2123 - val_acc: 0.9223\n",
            "Epoch 13/20\n",
            "48000/48000 [==============================] - 11s 224us/step - loss: 0.2188 - acc: 0.9186 - val_loss: 0.2117 - val_acc: 0.9227\n",
            "Epoch 14/20\n",
            "48000/48000 [==============================] - 11s 226us/step - loss: 0.2133 - acc: 0.9203 - val_loss: 0.2091 - val_acc: 0.9281\n",
            "Epoch 15/20\n",
            "48000/48000 [==============================] - 11s 224us/step - loss: 0.2089 - acc: 0.9210 - val_loss: 0.2164 - val_acc: 0.9210\n",
            "Epoch 16/20\n",
            "48000/48000 [==============================] - 11s 226us/step - loss: 0.2097 - acc: 0.9214 - val_loss: 0.2107 - val_acc: 0.9242\n",
            "Epoch 17/20\n",
            "48000/48000 [==============================] - 11s 223us/step - loss: 0.2079 - acc: 0.9229 - val_loss: 0.2106 - val_acc: 0.9217\n",
            "Epoch 18/20\n",
            "48000/48000 [==============================] - 11s 222us/step - loss: 0.2018 - acc: 0.9235 - val_loss: 0.1987 - val_acc: 0.9297\n",
            "Epoch 19/20\n",
            "48000/48000 [==============================] - 11s 223us/step - loss: 0.1978 - acc: 0.9252 - val_loss: 0.2007 - val_acc: 0.9296\n",
            "Epoch 20/20\n",
            "48000/48000 [==============================] - 11s 222us/step - loss: 0.1979 - acc: 0.9248 - val_loss: 0.2033 - val_acc: 0.9279\n"
          ],
          "name": "stdout"
        }
      ]
    },
    {
      "cell_type": "code",
      "metadata": {
        "id": "eaXx7TAtzvWm",
        "colab_type": "code",
        "colab": {}
      },
      "source": [
        "#Save the model\n",
        "fashion_model.save(\"fashion_model_dropout.h5py\")"
      ],
      "execution_count": 0,
      "outputs": []
    },
    {
      "cell_type": "markdown",
      "metadata": {
        "id": "9eXXEhS4-X44",
        "colab_type": "text"
      },
      "source": [
        "# Evaluate the model on test data"
      ]
    },
    {
      "cell_type": "code",
      "metadata": {
        "id": "-RG2iUTZ0EGl",
        "colab_type": "code",
        "outputId": "511b7b82-1073-40bd-d0e0-c2fd37bf352a",
        "colab": {
          "base_uri": "https://localhost:8080/",
          "height": 35
        }
      },
      "source": [
        "test_eval = fashion_model.evaluate(X_test, Y_test_one_hot, verbose=1)"
      ],
      "execution_count": 35,
      "outputs": [
        {
          "output_type": "stream",
          "text": [
            "10000/10000 [==============================] - 1s 107us/step\n"
          ],
          "name": "stdout"
        }
      ]
    },
    {
      "cell_type": "code",
      "metadata": {
        "id": "vnkjLo5u0J4K",
        "colab_type": "code",
        "outputId": "fefd1e4a-72da-4791-a810-478693fc5cf5",
        "colab": {
          "base_uri": "https://localhost:8080/",
          "height": 54
        }
      },
      "source": [
        "print('Test loss:', test_eval[0])\n",
        "print('Test accuracy:', test_eval[1])"
      ],
      "execution_count": 33,
      "outputs": [
        {
          "output_type": "stream",
          "text": [
            "Test loss: 0.22504762536883355\n",
            "Test accuracy: 0.9222\n"
          ],
          "name": "stdout"
        }
      ]
    },
    {
      "cell_type": "code",
      "metadata": {
        "id": "-r7zFqT_0WwO",
        "colab_type": "code",
        "outputId": "e75bbfba-19da-4034-b54a-0b795ed770ba",
        "colab": {
          "base_uri": "https://localhost:8080/",
          "height": 545
        }
      },
      "source": [
        "accuracy = fashion_train_dropout.history['acc']\n",
        "val_accuracy = fashion_train_dropout.history['val_acc']\n",
        "loss = fashion_train_dropout.history['loss']\n",
        "val_loss = fashion_train_dropout.history['val_loss']\n",
        "epochs = range(len(accuracy))\n",
        "plt.plot(epochs, accuracy, 'bo', label='Training accuracy')\n",
        "plt.plot(epochs, val_accuracy, 'b', label='Validation accuracy')\n",
        "plt.title('Training and validation accuracy')\n",
        "plt.legend()\n",
        "plt.figure()\n",
        "plt.plot(epochs, loss, 'bo', label='Training loss')\n",
        "plt.plot(epochs, val_loss, 'b', label='Validation loss')\n",
        "plt.title('Training and validation loss')\n",
        "plt.legend()\n",
        "plt.show()"
      ],
      "execution_count": 34,
      "outputs": [
        {
          "output_type": "display_data",
          "data": {
            "image/png": "[encoded data removed]",
            "text/plain": [
              "<Figure size 432x288 with 1 Axes>"
            ]
          },
          "metadata": {
            "tags": []
          }
        },
        {
          "output_type": "display_data",
          "data": {
            "image/png": "[encoded data removed]",
            "text/plain": [
              "<Figure size 432x288 with 1 Axes>"
            ]
          },
          "metadata": {
            "tags": []
          }
        }
      ]
    },
    {
      "cell_type": "code",
      "metadata": {
        "id": "8B3BRhfh0dO2",
        "colab_type": "code",
        "colab": {}
      },
      "source": [
        "predicted_classes = fashion_model.predict(X_test)"
      ],
      "execution_count": 0,
      "outputs": []
    },
    {
      "cell_type": "code",
      "metadata": {
        "id": "cbC_zjPC0aaq",
        "colab_type": "code",
        "colab": {}
      },
      "source": [
        "predicted_classes = np.argmax(np.round(predicted_classes),axis=1)"
      ],
      "execution_count": 0,
      "outputs": []
    },
    {
      "cell_type": "code",
      "metadata": {
        "id": "38XuDO8z0q3_",
        "colab_type": "code",
        "outputId": "3df8406e-6d6d-42e7-cd36-2660b5d12881",
        "colab": {
          "base_uri": "https://localhost:8080/",
          "height": 315
        }
      },
      "source": [
        "correct = np.where(predicted_classes==Y_test)[0]\n",
        "print(\"Found %d correct labels\" % len(correct))\n",
        "for i, correct in enumerate(correct[:9]):\n",
        "    plt.subplot(3,3,i+1)\n",
        "    plt.imshow(X_test[correct].reshape(28,28), cmap='gray', interpolation='none')\n",
        "    plt.title(\"Predicted {}, Class {}\".format(predicted_classes[correct], Y_test[correct]))\n",
        "    plt.tight_layout()"
      ],
      "execution_count": 0,
      "outputs": [
        {
          "output_type": "stream",
          "text": [
            "Found 9130 correct labels\n"
          ],
          "name": "stdout"
        },
        {
          "output_type": "display_data",
          "data": {
            "image/png": "[encoded data removed]",
            "text/plain": [
              "<Figure size 432x288 with 9 Axes>"
            ]
          },
          "metadata": {
            "tags": []
          }
        }
      ]
    },
    {
      "cell_type": "code",
      "metadata": {
        "id": "ynPDy0lH06H4",
        "colab_type": "code",
        "outputId": "d0157c21-9a40-46df-d7c7-bf88dc725e13",
        "colab": {
          "base_uri": "https://localhost:8080/",
          "height": 315
        }
      },
      "source": [
        "incorrect = np.where(predicted_classes!=Y_test)[0]\n",
        "print(\"Found %d incorrect labels\" % len(incorrect))\n",
        "for i, incorrect in enumerate(incorrect[:9]):\n",
        "    plt.subplot(3,3,i+1)\n",
        "    plt.imshow(X_test[incorrect].reshape(28,28), cmap='gray', interpolation='none')\n",
        "    plt.title(\"Predicted {}, Class {}\".format(predicted_classes[incorrect], Y_test[incorrect]))\n",
        "    plt.tight_layout()"
      ],
      "execution_count": 0,
      "outputs": [
        {
          "output_type": "stream",
          "text": [
            "Found 870 incorrect labels\n"
          ],
          "name": "stdout"
        },
        {
          "output_type": "display_data",
          "data": {
            "image/png": "[encoded data removed]",
            "text/plain": [
              "<Figure size 432x288 with 9 Axes>"
            ]
          },
          "metadata": {
            "tags": []
          }
        }
      ]
    },
    {
      "cell_type": "markdown",
      "metadata": {
        "id": "8aXoWmaZDMYJ",
        "colab_type": "text"
      },
      "source": [
        "# Classification Report"
      ]
    },
    {
      "cell_type": "code",
      "metadata": {
        "id": "y15o-SP41Kqm",
        "colab_type": "code",
        "outputId": "0730f20e-183f-445c-e5c7-721b94c26c57",
        "colab": {
          "base_uri": "https://localhost:8080/",
          "height": 329
        }
      },
      "source": [
        "from sklearn.metrics import classification_report\n",
        "target_names = [\"Class {}\".format(i) for i in range(num_classes)]\n",
        "print(classification_report(Y_test, predicted_classes, target_names=target_names))"
      ],
      "execution_count": 0,
      "outputs": [
        {
          "output_type": "stream",
          "text": [
            "              precision    recall  f1-score   support\n",
            "\n",
            "     Class 0       0.76      0.92      0.83      1000\n",
            "     Class 1       0.99      0.99      0.99      1000\n",
            "     Class 2       0.87      0.87      0.87      1000\n",
            "     Class 3       0.94      0.90      0.92      1000\n",
            "     Class 4       0.92      0.80      0.86      1000\n",
            "     Class 5       0.98      0.98      0.98      1000\n",
            "     Class 6       0.78      0.74      0.76      1000\n",
            "     Class 7       0.96      0.97      0.97      1000\n",
            "     Class 8       0.99      0.98      0.99      1000\n",
            "     Class 9       0.98      0.96      0.97      1000\n",
            "\n",
            "    accuracy                           0.91     10000\n",
            "   macro avg       0.92      0.91      0.91     10000\n",
            "weighted avg       0.92      0.91      0.91     10000\n",
            "\n"
          ],
          "name": "stdout"
        }
      ]
    }
  ]
}